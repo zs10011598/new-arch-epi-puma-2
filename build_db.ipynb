{
 "cells": [
  {
   "cell_type": "code",
   "execution_count": 1,
   "id": "4fbcfa55-4a88-4509-aba9-1ccaf9843ea3",
   "metadata": {},
   "outputs": [],
   "source": [
    "import pandas as pd\n",
    "import psycopg2\n",
    "import psycopg2.extras\n",
    "import json"
   ]
  },
  {
   "cell_type": "markdown",
   "id": "bf71693a-7e71-4ec1-afcb-e09711024a2d",
   "metadata": {},
   "source": [
    "## Original data"
   ]
  },
  {
   "cell_type": "code",
   "execution_count": 12,
   "id": "d2fe6ef6-e9be-447c-b92b-2f36a2794b99",
   "metadata": {},
   "outputs": [
    {
     "name": "stderr",
     "output_type": "stream",
     "text": [
      "/var/folders/30/rk24rxs9671c098_6t2mp6v00000gn/T/ipykernel_23155/105555485.py:14: DtypeWarning: Columns (9,10,14,15,44,46,48,50,52) have mixed types. Specify dtype option on import or set low_memory=False.\n",
      "  for chunk in pd.read_csv(csv_path, chunksize=chunksize):\n"
     ]
    }
   ],
   "source": [
    "csv_path = './species_data/SNIBEjemplares_20240520_142214.zip'\n",
    "\n",
    "conn = psycopg2.connect(\n",
    "    dbname='ep2_2',\n",
    "    user='postgres',\n",
    "    password='postgres',\n",
    "    host='localhost',\n",
    "    port=5433\n",
    ")\n",
    "\n",
    "table_name = 'ep2_2_schema.original'\n",
    "chunksize = 100000\n",
    "\n",
    "for chunk in pd.read_csv(csv_path, chunksize=chunksize):\n",
    "    \n",
    "    chunk['ejemplarfosil'] =  chunk['ejemplarfosil'].fillna('NO')\n",
    "    chunk['ejemplarfosil'] =  chunk['ejemplarfosil'].apply(lambda x: False if x == 'NO' else True)\n",
    "    chunk['geoportal'] =  chunk['geoportal'].apply(lambda x: bool(x))\n",
    "    chunk = chunk[~(chunk['longitud'].isna()) | ~(chunk['longitud'].isna())]\n",
    "    #chunk['the_geom'] = pd.Series(['ST_SetSRID(ST_Point(longitud, latitud), 4326)' for i in range(chunk.shape[0])])\n",
    "    \n",
    "    with conn.cursor() as cursor:\n",
    "        columns = ','.join([col for col in chunk.columns])\n",
    "        placeholders = ','.join(['%s' for _ in range(len(chunk.columns))])\n",
    "        sql = f\"INSERT INTO {table_name}({columns}) VALUES ({placeholders})\"\n",
    "        data = [tuple(row) for row in chunk.values]\n",
    "        cursor.executemany(sql, data)\n",
    "        conn.commit()\n",
    "\n",
    "with conn.cursor() as cursor:\n",
    "    sql = f\"UPDATE ep2_2_schema.original SET the_geom=ST_SetSRID(ST_Point(longitud, latitud), 4326)\"\n",
    "    cursor.execute(sql)\n",
    "    conn.commit()\n",
    "\n",
    "conn.close()"
   ]
  },
  {
   "cell_type": "markdown",
   "id": "8690a1c4-1688-4bac-a7dd-2e5f024c181f",
   "metadata": {},
   "source": [
    "### Variables"
   ]
  },
  {
   "cell_type": "code",
   "execution_count": 13,
   "id": "512b48c3-dfb2-4641-8ea0-93c149befb6e",
   "metadata": {},
   "outputs": [],
   "source": [
    "conn = psycopg2.connect(\n",
    "    dbname='ep2_2',\n",
    "    user='postgres',\n",
    "    password='postgres',\n",
    "    host='localhost',\n",
    "    port=5433\n",
    ")\n",
    "\n",
    "with conn.cursor(cursor_factory=psycopg2.extras.RealDictCursor) as cursor:\n",
    "    sql = f\"SELECT distinct reinovalido, phylumdivisionvalido, clasevalida,\\\n",
    "    ordenvalido, familiavalida, generovalido, especievalida FROM ep2_2_schema.original\"\n",
    "    cursor.execute(sql)\n",
    "    variables = cursor.fetchall()\n",
    "    \n",
    "    sql = f\"INSERT INTO ep2_2_schema.variable(\\\"values\\\") VALUES (%s::json)\"\n",
    "    data = [(json.dumps(v),) for v in variables]\n",
    "    cursor.executemany(sql, data)\n",
    "    conn.commit()\n",
    "\n",
    "conn.close()"
   ]
  },
  {
   "cell_type": "markdown",
   "id": "37bcd2f4-ca6c-4536-8150-932972cfcec3",
   "metadata": {},
   "source": [
    "## Occurrences"
   ]
  },
  {
   "cell_type": "markdown",
   "id": "658f160e-ec78-4dfb-982a-c7e3a4aa0035",
   "metadata": {},
   "source": [
    "### Occurrences for ind ensemble"
   ]
  },
  {
   "cell_type": "code",
   "execution_count": 15,
   "id": "abde6c90-718d-406d-8787-dc2a0a9c2dc0",
   "metadata": {},
   "outputs": [],
   "source": [
    "conn = psycopg2.connect(\n",
    "    dbname='ep2_2',\n",
    "    user='postgres',\n",
    "    password='postgres',\n",
    "    host='localhost',\n",
    "    port=5433\n",
    ")\n",
    "\n",
    "with conn.cursor(cursor_factory=psycopg2.extras.RealDictCursor) as cursor:\n",
    "    sql = f\"SELECT * FROM ep2_2_schema.variable\"\n",
    "    cursor.execute(sql)\n",
    "    variables = cursor.fetchall()\n",
    "    for v in variables:\n",
    "        #print(v['id'])\n",
    "        where_clause = 'and '.join([k+'=\\''+v['values'][k]+'\\' ' for k in v['values'].keys()])\n",
    "        sql = f\"SELECT id FROM ep2_2_schema.original WHERE {where_clause}\"\n",
    "        cursor.execute(sql)\n",
    "        occs = cursor.fetchall()\n",
    "        \n",
    "        sql = f\"INSERT INTO ep2_2_schema.occurrence_ensemble_ind VALUES(%s, %s)\"\n",
    "        data = [(occ['id'], v['id']) for occ in occs]\n",
    "        cursor.executemany(sql, data)\n",
    "        conn.commit()\n",
    "\n",
    "conn.close()"
   ]
  },
  {
   "cell_type": "markdown",
   "id": "3f049afb-8c4e-4696-9c48-b9bcc6fd32e1",
   "metadata": {},
   "source": [
    "### Occurrences for 16k ensemble"
   ]
  },
  {
   "cell_type": "code",
   "execution_count": 2,
   "id": "0d8bd136-7dbc-46fe-91bc-0f350799805e",
   "metadata": {},
   "outputs": [],
   "source": [
    "conn = psycopg2.connect(\n",
    "    dbname='ep2_1',\n",
    "    user='postgres',\n",
    "    password='postgres',\n",
    "    host='localhost',\n",
    "    port=5433\n",
    ")\n",
    "\n",
    "with conn.cursor(cursor_factory=psycopg2.extras.RealDictCursor) as cursor:\n",
    "    sql = f\"INSERT INTO ep2_2_schema.occurrence_ensemble_16k \\\n",
    "        select m.cve::integer as cell_id, o.variable_id \\\n",
    "        from ep2_2_schema.occurrence_ensemble_ind as o \\\n",
    "        left join ep2_2_schema.original as s on o.cell_id=s.id \\\n",
    "        left join public.mesh_16km as m on st_intersects(s.the_geom, m.geometry)\\\n",
    "        WHERE cell_id is not null;\"\n",
    "    cursor.execute(sql)\n",
    "    conn.commit()\n",
    "\n",
    "conn.close()"
   ]
  },
  {
   "cell_type": "markdown",
   "id": "7626bd7f-1169-49d7-8a9e-65749fe996ca",
   "metadata": {},
   "source": [
    "## Summaries"
   ]
  },
  {
   "cell_type": "markdown",
   "id": "7bcbbea8-4219-451c-aa1c-8956691475b6",
   "metadata": {},
   "source": [
    "### Summary for ind ensemble"
   ]
  },
  {
   "cell_type": "code",
   "execution_count": 5,
   "id": "6120be86-37bd-4bd5-a9f9-3a04608ca1ed",
   "metadata": {},
   "outputs": [],
   "source": [
    "conn = psycopg2.connect(\n",
    "    dbname='ep2_2',\n",
    "    user='postgres',\n",
    "    password='postgres',\n",
    "    host='localhost',\n",
    "    port=5433\n",
    ")\n",
    "\n",
    "with conn.cursor(cursor_factory=psycopg2.extras.RealDictCursor) as cursor:\n",
    "    sql = 'INSERT INTO ep2_2_schema.summary_ensemble_ind \\\n",
    "        SELECT variable_id, \\\n",
    "            array_agg(DISTINCT cell_id) AS cells, \\\n",
    "            array_length(array_agg(DISTINCT cell_id), 1) AS occs \\\n",
    "        FROM ep2_2_schema.occurrence_ensemble_ind \\\n",
    "        GROUP BY variable_id;'\n",
    "    cursor.execute(sql)\n",
    "    conn.commit()\n",
    "\n",
    "conn.close()"
   ]
  },
  {
   "cell_type": "markdown",
   "id": "fe14fee0-7867-4b83-b901-2d4631021442",
   "metadata": {},
   "source": [
    "### Summary for 16k ensemble"
   ]
  },
  {
   "cell_type": "code",
   "execution_count": 4,
   "id": "f1961127-7fd5-47b2-a826-a7ca1a8f9f34",
   "metadata": {},
   "outputs": [],
   "source": [
    "conn = psycopg2.connect(\n",
    "    dbname='ep2_2',\n",
    "    user='postgres',\n",
    "    password='postgres',\n",
    "    host='localhost',\n",
    "    port=5433\n",
    ")\n",
    "\n",
    "with conn.cursor(cursor_factory=psycopg2.extras.RealDictCursor) as cursor:\n",
    "    sql = 'INSERT INTO ep2_2_schema.summary_ensemble_16k \\\n",
    "        SELECT variable_id, \\\n",
    "            array_agg(DISTINCT cell_id) AS cells, \\\n",
    "            array_length(array_agg(DISTINCT cell_id), 1) AS occs \\\n",
    "        FROM ep2_2_schema.occurrence_ensemble_16k \\\n",
    "        GROUP BY variable_id;'\n",
    "    cursor.execute(sql)\n",
    "    conn.commit()\n",
    "\n",
    "conn.close()"
   ]
  },
  {
   "cell_type": "code",
   "execution_count": null,
   "id": "a1d38fd9-4a77-40bc-8fc7-0ff1ecfd384e",
   "metadata": {},
   "outputs": [],
   "source": []
  }
 ],
 "metadata": {
  "kernelspec": {
   "display_name": "Python 3 (ipykernel)",
   "language": "python",
   "name": "python3"
  },
  "language_info": {
   "codemirror_mode": {
    "name": "ipython",
    "version": 3
   },
   "file_extension": ".py",
   "mimetype": "text/x-python",
   "name": "python",
   "nbconvert_exporter": "python",
   "pygments_lexer": "ipython3",
   "version": "3.11.9"
  }
 },
 "nbformat": 4,
 "nbformat_minor": 5
}
